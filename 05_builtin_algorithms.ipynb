{
 "cells": [
  {
   "cell_type": "markdown",
   "metadata": {},
   "source": [
    "# SageMakerビルドインアルゴリズム比較\n",
    "\n",
    "このノートブックでは、SageMakerのビルドインアルゴリズムを使用した機械学習を体験します。\n",
    "\n",
    "## 🎯 学習目標\n",
    "- SageMakerビルドインアルゴリズムの使い方\n",
    "- XGBoostの基本的な使用方法\n",
    "- Script Modeとの違いを理解\n",
    "\n",
    "## ⏱️ 実行時間目安\n",
    "- **データ準備**: 2-3分\n",
    "- **XGBoost**: 5-8分\n",
    "- **合計**: 約10分"
   ]
  },
  {
   "cell_type": "markdown",
   "metadata": {},
   "source": [
    "## 1. 環境設定"
   ]
  },
  {
   "cell_type": "code",
   "execution_count": null,
   "metadata": {},
   "outputs": [],
   "source": [
    "import sagemaker\n",
    "import boto3\n",
    "import pandas as pd\n",
    "import numpy as np\n",
    "import time\n",
    "import os\n",
    "from sagemaker import get_execution_role\n",
    "from sagemaker.inputs import TrainingInput\n",
    "\n",
    "# SageMaker設定\n",
    "sagemaker_session = sagemaker.Session()\n",
    "role = get_execution_role()\n",
    "region = boto3.Session().region_name\n",
    "bucket = sagemaker_session.default_bucket()\n",
    "\n",
    "print(f\"SageMaker role: {role}\")\n",
    "print(f\"Region: {region}\")\n",
    "print(f\"S3 bucket: {bucket}\")\n",
    "print(f\"SageMaker version: {sagemaker.__version__}\")\n",
    "print(f\"Current directory: {os.getcwd()}\")\n",
    "print(\"\\n🎓 ビルドインアルゴリズム講義を開始します\")"
   ]
  },
  {
   "cell_type": "markdown",
   "metadata": {},
   "source": [
    "## 2. データファイルの確認とパス設定"
   ]
  },
  {
   "cell_type": "code",
   "execution_count": null,
   "metadata": {},
   "outputs": [],
   "source": [
    "# データファイルのパスを設定\n",
    "import os\n",
    "\n",
    "# 複数のパスパターンを試す\n",
    "possible_paths = [\n",
    "    './data/',\n",
    "    '../data/',\n",
    "    '~/sagemaker-lecture-version/data/',\n",
    "    '/Users/keissk/sagemaker-lecture-version/data/'\n",
    "]\n",
    "\n",
    "data_path = None\n",
    "for path in possible_paths:\n",
    "    expanded_path = os.path.expanduser(path)\n",
    "    train_file = os.path.join(expanded_path, 'train_lecture.csv')\n",
    "    if os.path.exists(train_file):\n",
    "        data_path = expanded_path\n",
    "        print(f\"データファイルを発見: {data_path}\")\n",
    "        break\n",
    "\n",
    "if data_path is None:\n",
    "    print(\"❌ データファイルが見つかりません\")\n",
    "    print(\"現在のディレクトリ:\", os.getcwd())\n",
    "    print(\"利用可能なファイル:\")\n",
    "    for root, dirs, files in os.walk('.'):\n",
    "        for file in files:\n",
    "            if 'train_lecture.csv' in file:\n",
    "                print(f\"  {os.path.join(root, file)}\")\n",
    "else:\n",
    "    print(f\"✅ データパス設定完了: {data_path}\")\n",
    "    # ファイル一覧表示\n",
    "    files = os.listdir(data_path)\n",
    "    print(\"データファイル一覧:\")\n",
    "    for file in sorted(files):\n",
    "        if file.endswith('.csv'):\n",
    "            print(f\"  {file}\")"
   ]
  },
  {
   "cell_type": "markdown",
   "metadata": {},
   "source": [
    "## 3. データ読み込み"
   ]
  },
  {
   "cell_type": "code",
   "execution_count": null,
   "metadata": {},
   "outputs": [],
   "source": [
    "# データ読み込み\n",
    "if data_path:\n",
    "    train_file = os.path.join(data_path, 'train_lecture.csv')\n",
    "    test_file = os.path.join(data_path, 'test_lecture.csv')\n",
    "    \n",
    "    train_data = pd.read_csv(train_file)\n",
    "    test_data = pd.read_csv(test_file)\n",
    "    \n",
    "    print(\"データ読み込み成功!\")\n",
    "    print(f\"  Train: {train_data.shape}\")\n",
    "    print(f\"  Test: {test_data.shape}\")\n",
    "    \n",
    "    # クラス分布確認\n",
    "    print(\"\\nクラス分布:\")\n",
    "    print(train_data['target'].value_counts().sort_index())\n",
    "    \n",
    "    # データの最初の5行を表示\n",
    "    print(\"\\nデータサンプル:\")\n",
    "    print(train_data.head())\n",
    "else:\n",
    "    print(\"❌ データファイルが見つからないため、処理を停止します\")\n",
    "    print(\"\\n解決方法:\")\n",
    "    print(\"1. Jupyterノートブックを sagemaker-lecture-version ディレクトリで実行してください\")\n",
    "    print(\"2. または、データファイルのパスを正しく設定してください\")"
   ]
  },
  {
   "cell_type": "markdown",
   "metadata": {},
   "source": [
    "## 4. ビルドインアルゴリズム用データ準備"
   ]
  },
  {
   "cell_type": "code",
   "execution_count": null,
   "metadata": {},
   "outputs": [],
   "source": [
    "# データが正常に読み込まれた場合のみ実行\n",
    "if 'train_data' in locals() and 'test_data' in locals():\n",
    "    # ビルドインアルゴリズム用フォーマット（target列を最初に移動）\n",
    "    def reformat_for_builtin(df):\n",
    "        target = df['target']\n",
    "        features = df.drop('target', axis=1)\n",
    "        return pd.concat([target, features], axis=1)\n",
    "    \n",
    "    train_builtin = reformat_for_builtin(train_data)\n",
    "    test_builtin = reformat_for_builtin(test_data)\n",
    "    \n",
    "    print(\"ビルドインアルゴリズム用フォーマット変換完了\")\n",
    "    print(\"最初の5列:\")\n",
    "    print(train_builtin.iloc[:5, :5])\n",
    "    \n",
    "    # CSVファイルとして保存（ヘッダーなし）\n",
    "    train_builtin.to_csv('train_builtin.csv', index=False, header=False)\n",
    "    test_builtin.to_csv('test_builtin.csv', index=False, header=False)\n",
    "    print(\"\\nCSVファイル保存完了\")\n",
    "else:\n",
    "    print(\"❌ データが読み込まれていないため、この処理をスキップします\")"
   ]
  },
  {
   "cell_type": "markdown",
   "metadata": {},
   "source": [
    "## 5. S3アップロード"
   ]
  },
  {
   "cell_type": "code",
   "execution_count": null,
   "metadata": {},
   "outputs": [],
   "source": [
    "# データが準備できた場合のみS3アップロード\n",
    "if os.path.exists('train_builtin.csv'):\n",
    "    print(\"データをS3にアップロード中...\")\n",
    "    \n",
    "    # S3アップロード\n",
    "    train_s3_path = sagemaker_session.upload_data('train_builtin.csv', \n",
    "                                                  bucket=bucket, \n",
    "                                                  key_prefix='lecture-builtin/train')\n",
    "    test_s3_path = sagemaker_session.upload_data('test_builtin.csv', \n",
    "                                                 bucket=bucket, \n",
    "                                                 key_prefix='lecture-builtin/test')\n",
    "    \n",
    "    print(f\"✅ アップロード完了:\")\n",
    "    print(f\"  Train: {train_s3_path}\")\n",
    "    print(f\"  Test: {test_s3_path}\")\n",
    "else:\n",
    "    print(\"❌ アップロード用ファイルが見つかりません\")"
   ]
  },
  {
   "cell_type": "markdown",
   "metadata": {},
   "source": [
    "## 6. XGBoostビルドインアルゴリズム"
   ]
  },
  {
   "cell_type": "code",
   "execution_count": null,
   "metadata": {},
   "outputs": [],
   "source": [
    "# S3アップロードが成功した場合のみ実行\n",
    "if 'train_s3_path' in locals():\n",
    "    # XGBoostコンテナイメージ取得\n",
    "    from sagemaker.image_uris import retrieve\n",
    "    \n",
    "    xgboost_image = retrieve('xgboost', region, version='1.5-1')\n",
    "    print(f\"XGBoostイメージ: {xgboost_image}\")\n",
    "    \n",
    "    # XGBoostエスティメーター作成\n",
    "    xgboost_estimator = sagemaker.estimator.Estimator(\n",
    "        image_uri=xgboost_image,\n",
    "        role=role,\n",
    "        instance_count=1,\n",
    "        instance_type='ml.m5.large',\n",
    "        hyperparameters={\n",
    "            'max_depth': 5,\n",
    "            'eta': 0.2,\n",
    "            'gamma': 4,\n",
    "            'min_child_weight': 6,\n",
    "            'subsample': 0.8,\n",
    "            'objective': 'multi:softprob',\n",
    "            'num_class': 3,\n",
    "            'num_round': 20,\n",
    "            'eval_metric': 'mlogloss'\n",
    "        },\n",
    "        output_path=f's3://{bucket}/lecture-builtin/xgboost-output'\n",
    "    )\n",
    "    \n",
    "    print(\"✅ XGBoostエスティメーター作成完了\")\n",
    "    print(f\"ハイパーパラメータ: {xgboost_estimator.hyperparameters()}\")\n",
    "else:\n",
    "    print(\"❌ S3パスが設定されていないため、XGBoost設定をスキップします\")"
   ]
  },
  {
   "cell_type": "markdown",
   "metadata": {},
   "source": [
    "## 7. トレーニング実行"
   ]
  },
  {
   "cell_type": "code",
   "execution_count": null,
   "metadata": {},
   "outputs": [],
   "source": [
    "# XGBoostエスティメーターが作成された場合のみ実行\n",
    "if 'xgboost_estimator' in locals():\n",
    "    print(\"XGBoostトレーニング開始...\")\n",
    "    start_time = time.time()\n",
    "    \n",
    "    # トレーニング入力設定\n",
    "    train_input = TrainingInput(train_s3_path, content_type='text/csv')\n",
    "    \n",
    "    try:\n",
    "        # トレーニング実行\n",
    "        xgboost_estimator.fit({'train': train_input}, wait=True)\n",
    "        \n",
    "        xgb_training_time = time.time() - start_time\n",
    "        print(f\"✅ XGBoostトレーニング完了: {xgb_training_time:.2f}秒\")\n",
    "        \n",
    "        # 成功メッセージ\n",
    "        print(\"\\n🎉 ビルドインアルゴリズム実行成功！\")\n",
    "        print(f\"トレーニング時間: {xgb_training_time:.2f}秒\")\n",
    "        print(\"モデルはS3に保存されました。\")\n",
    "        \n",
    "    except Exception as e:\n",
    "        print(f\"❌ トレーニング中にエラーが発生しました: {e}\")\n",
    "        print(\"\\n💡 トラブルシューティング:\")\n",
    "        print(\"1. SageMaker実行ロールが正しく設定されているか確認\")\n",
    "        print(\"2. 必要な権限（S3、SageMaker）があるか確認\")\n",
    "        print(\"3. インスタンスタイプが利用可能か確認\")\n",
    "else:\n",
    "    print(\"❌ XGBoostエスティメーターが作成されていないため、トレーニングをスキップします\")"
   ]
  },
  {
   "cell_type": "markdown",
   "metadata": {},
   "source": [
    "## 8. まとめ"
   ]
  },
  {
   "cell_type": "code",
   "execution_count": null,
   "metadata": {},
   "outputs": [],
   "source": [
    "print(\"=== SageMakerビルドインアルゴリズム講義完了 ===\")\n",
    "print(\"\\n🎓 学習内容:\")\n",
    "print(\"✅ ビルドインアルゴリズムの基本的な使い方\")\n",
    "print(\"✅ データフォーマットの変換方法\")\n",
    "print(\"✅ S3を使ったデータ管理\")\n",
    "print(\"✅ XGBoostの設定とトレーニング\")\n",
    "print(\"\\n🚀 次のステップ:\")\n",
    "print(\"1. モデルをデプロイして予測を実行\")\n",
    "print(\"2. Script Modeとの性能比較\")\n",
    "print(\"3. 他のビルドインアルゴリズム（Linear Learner等）を試す\")\n",
    "print(\"4. ハイパーパラメータ最適化を実行\")"
   ]
  }
 ],
 "metadata": {
  "kernelspec": {
   "display_name": "Python 3",
   "language": "python",
   "name": "python3"
  },
  "language_info": {
   "codemirror_mode": {
    "name": "ipython",
    "version": 3
   },
   "file_extension": ".py",
   "mimetype": "text/x-python",
   "name": "python",
   "nbconvert_exporter": "python",
   "pygments_lexer": "ipython3",
   "version": "3.8.5"
  }
 },
 "nbformat": 4,
 "nbformat_minor": 4
}
